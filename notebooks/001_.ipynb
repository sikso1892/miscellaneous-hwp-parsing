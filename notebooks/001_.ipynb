{
 "cells": [
  {
   "cell_type": "code",
   "execution_count": 23,
   "metadata": {
    "tags": []
   },
   "outputs": [
    {
     "data": {
      "text/plain": [
       "('../data/template1', '.hwpx')"
      ]
     },
     "metadata": {},
     "output_type": "display_data"
    },
    {
     "data": {
      "text/plain": [
       "'template1'"
      ]
     },
     "metadata": {},
     "output_type": "display_data"
    },
    {
     "data": {
      "text/plain": [
       "'../temp/template1'"
      ]
     },
     "metadata": {},
     "output_type": "display_data"
    },
    {
     "data": {
      "text/plain": [
       "'../temp/template1.zip'"
      ]
     },
     "metadata": {},
     "output_type": "display_data"
    },
    {
     "data": {
      "text/plain": [
       "'../temp/template1'"
      ]
     },
     "metadata": {},
     "output_type": "display_data"
    },
    {
     "data": {
      "text/plain": [
       "'../temp/template1/Contents/section0.xml'"
      ]
     },
     "metadata": {},
     "output_type": "display_data"
    },
    {
     "data": {
      "text/plain": [
       "'헌법재판소 재판관은 탄핵 또는 금고 이상의 형의 선고에 의하지 아니하고는 파면되지 아니한다. 모든 국민은 직업선택의 자유를 가진다. 국가원로자문회의의 의장은 직전대통령이 된다. 다만, 직전대통령이 없을 때에는 대통령이 지명한다. 공무원은 국민전체에 대한 봉사자이며, 국민에 대하여 책임을 진다. 국회의원은 국회에서 직무상 행한 발언과 표결에 관하여 국회외에서 책임을 지지 아니한다. 국회는 국가의 예산안을 심의·확정한다. 법률이 정하는 주요방위산업체에 종사하는 근로자의 단체행동권은 법률이 정하는 바에 의하여 이를 제한하거나 인정하지 아니할 수 있다. 대한민국은 통일을 지향하며, 자유민주적 기본질서에 입각한 평화적 통일 정책을 수립하고 이를 추진한다.'"
      ]
     },
     "execution_count": 23,
     "metadata": {},
     "output_type": "execute_result"
    }
   ],
   "source": [
    "import os, shutil, xml, zipfile, pandas, glob\n",
    "import xml.etree.ElementTree as ET\n",
    "from bs4 import BeautifulSoup\n",
    "import xmltodict \n",
    "\n",
    "hwp_file = r'../data/template1.hwpx'\n",
    "temp_dir = r'../temp'\n",
    "\n",
    "display(\n",
    "    os.path.splitext(hwp_file),\n",
    "    os.path.splitext(os.path.basename(hwp_file))[0],\n",
    "    temp_base_name := os.path.join(temp_dir, os.path.splitext(os.path.basename(hwp_file))[0]),\n",
    "    temp_zip_file := f'{temp_base_name}.zip',\n",
    "    temp_unzip_dir := temp_base_name,\n",
    "    target_xml_file := os.path.join(temp_base_name, 'Contents', 'section0.xml')\n",
    ")\n",
    "\n",
    "if not os.path.exists(temp_zip_file):\n",
    "    shutil.copy(hwp_file, temp_zip_file)\n",
    "\n",
    "with zipfile.ZipFile(temp_zip_file, 'r') as zf:\n",
    "    zf.extractall(path=temp_base_name)\n",
    "\n",
    "\n",
    "# tree = ET.parse(target_xml_file)\n",
    "# root = tree.getroot()\n",
    "\n",
    "# for child in root.iter():\n",
    "#     print(\"Child tag:\", child.tag, \"Child text:\", child.text)\n",
    "\n",
    "with open(target_xml_file, 'r') as file:\n",
    "    xml_doc = file.read()\n",
    "\n",
    "soup = BeautifulSoup(xml_doc, 'lxml')\n",
    "\n",
    "target = -1\n",
    "tags = soup.select('hp\\:t')gs\n",
    "for i, tag in enumerate(tags):\n",
    "    if '약사평가' in tag.string:\n",
    "        target = i + 1\n",
    "        break\n",
    "\n",
    "while not_find := True:\n",
    "    if pharmacist_evaluation := tags[target].string.strip():\n",
    "        break\n",
    "    else:\n",
    "        target += 1\n",
    "\n",
    "_dict = {\n",
    "    '보고일': '',\n",
    "    '보고자': '',\n",
    "    '평가일': '',\n",
    "    '평가자': '',\n",
    "    '병록번호': '',\n",
    "    '환자명': '',\n",
    "    '나이': '',\n",
    "    '유해사례 내용': '',\n",
    "    '약사평가': '',\n",
    "    '참고문헌': '',\n",
    "    'WHO-UMC causality assessment': '',\n",
    "    'Naranjo Scale': '',\n",
    "    '한국형 Algorithm Ver 2.0': '',    \n",
    "}\n",
    "pharmacist_evaluation\n",
    "# os.\n"
   ]
  },
  {
   "cell_type": "code",
   "execution_count": null,
   "metadata": {},
   "outputs": [],
   "source": []
  }
 ],
 "metadata": {
  "kernelspec": {
   "display_name": "Python 3 (ipykernel)",
   "language": "python",
   "name": "python3"
  },
  "language_info": {
   "codemirror_mode": {
    "name": "ipython",
    "version": 3
   },
   "file_extension": ".py",
   "mimetype": "text/x-python",
   "name": "python",
   "nbconvert_exporter": "python",
   "pygments_lexer": "ipython3",
   "version": "3.11.4"
  }
 },
 "nbformat": 4,
 "nbformat_minor": 4
}
