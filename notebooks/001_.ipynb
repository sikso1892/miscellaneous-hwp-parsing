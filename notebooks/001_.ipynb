{
 "cells": [
  {
   "cell_type": "code",
   "execution_count": 14,
   "metadata": {
    "tags": []
   },
   "outputs": [
    {
     "data": {
      "text/plain": [
       "('../data/template1', '.hwpx')"
      ]
     },
     "metadata": {},
     "output_type": "display_data"
    },
    {
     "data": {
      "text/plain": [
       "'template1'"
      ]
     },
     "metadata": {},
     "output_type": "display_data"
    },
    {
     "data": {
      "text/plain": [
       "'../temp/template1'"
      ]
     },
     "metadata": {},
     "output_type": "display_data"
    },
    {
     "data": {
      "text/plain": [
       "'../temp/template1.zip'"
      ]
     },
     "metadata": {},
     "output_type": "display_data"
    },
    {
     "data": {
      "text/plain": [
       "'../temp/template1'"
      ]
     },
     "metadata": {},
     "output_type": "display_data"
    },
    {
     "data": {
      "text/plain": [
       "'../temp/template1/Contents/section0.xml'"
      ]
     },
     "metadata": {},
     "output_type": "display_data"
    },
    {
     "name": "stdout",
     "output_type": "stream",
     "text": [
      "<hp:t>보고일</hp:t>\n",
      "보고일\n",
      "<class 'bs4.element.Tag'>\n"
     ]
    }
   ],
   "source": [
    "import os, shutil, xml, zipfile, pandas, glob\n",
    "import xml.etree.ElementTree as ET\n",
    "from bs4 import BeautifulSoup\n",
    "import xmltodict \n",
    "\n",
    "hwp_file = r'../data/template1.hwpx'\n",
    "temp_dir = r'../temp'\n",
    "\n",
    "display(\n",
    "    os.path.splitext(hwp_file),\n",
    "    os.path.splitext(os.path.basename(hwp_file))[0],\n",
    "    temp_base_name := os.path.join(temp_dir, os.path.splitext(os.path.basename(hwp_file))[0]),\n",
    "    temp_zip_file := f'{temp_base_name}.zip',\n",
    "    temp_unzip_dir := temp_base_name,\n",
    "    target_xml_file := os.path.join(temp_base_name, 'Contents', 'section0.xml')\n",
    ")\n",
    "\n",
    "if not os.path.exists(temp_zip_file):\n",
    "    shutil.copy(hwp_file, temp_zip_file)\n",
    "\n",
    "with zipfile.ZipFile(temp_zip_file, 'r') as zf:\n",
    "    zf.extractall(path=temp_base_name)\n",
    "\n",
    "\n",
    "# tree = ET.parse(target_xml_file)\n",
    "# root = tree.getroot()\n",
    "\n",
    "# for child in root.iter():\n",
    "#     print(\"Child tag:\", child.tag, \"Child text:\", child.text)\n",
    "\n",
    "with open(target_xml_file, 'r') as file:\n",
    "    xml_doc = file.read()\n",
    "\n",
    "soup = BeautifulSoup(xml_doc, 'lxml')\n",
    "\n",
    "target = -1\n",
    "\n",
    "for i, tag in enumerate(soup.select('hp\\:t')):\n",
    "    print(text)\n",
    "    print(text.string)\n",
    "    print(type(text))\n",
    "    break\n",
    "    if text in '약사평가':\n",
    "        target = i\n",
    "        break\n",
    "\n",
    "if target > 0:\n",
    "    print('hi')\n",
    "    for text in soup.select('hp\\:t')[target:]:\n",
    "        print(text)\n",
    "\n",
    "# os.\n"
   ]
  },
  {
   "cell_type": "code",
   "execution_count": null,
   "metadata": {},
   "outputs": [],
   "source": []
  }
 ],
 "metadata": {
  "kernelspec": {
   "display_name": "Python 3 (ipykernel)",
   "language": "python",
   "name": "python3"
  },
  "language_info": {
   "codemirror_mode": {
    "name": "ipython",
    "version": 3
   },
   "file_extension": ".py",
   "mimetype": "text/x-python",
   "name": "python",
   "nbconvert_exporter": "python",
   "pygments_lexer": "ipython3",
   "version": "3.11.4"
  }
 },
 "nbformat": 4,
 "nbformat_minor": 4
}
