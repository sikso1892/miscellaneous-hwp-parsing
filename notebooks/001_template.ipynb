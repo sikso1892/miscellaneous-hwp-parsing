{
 "cells": [
  {
   "cell_type": "code",
   "execution_count": 4,
   "metadata": {
    "tags": []
   },
   "outputs": [
    {
     "data": {
      "text/plain": [
       "('../data/template1', '.hwpx')"
      ]
     },
     "metadata": {},
     "output_type": "display_data"
    },
    {
     "data": {
      "text/plain": [
       "'template1'"
      ]
     },
     "metadata": {},
     "output_type": "display_data"
    },
    {
     "data": {
      "text/plain": [
       "'../temp/template1'"
      ]
     },
     "metadata": {},
     "output_type": "display_data"
    },
    {
     "data": {
      "text/plain": [
       "'../temp/template1.zip'"
      ]
     },
     "metadata": {},
     "output_type": "display_data"
    },
    {
     "data": {
      "text/plain": [
       "'../temp/template1'"
      ]
     },
     "metadata": {},
     "output_type": "display_data"
    },
    {
     "data": {
      "text/plain": [
       "'../temp/template1/Contents/section0.xml'"
      ]
     },
     "metadata": {},
     "output_type": "display_data"
    }
   ],
   "source": [
    "import os, shutil, xml, zipfile, pandas, glob\n",
    "import xml.etree.ElementTree as ET\n",
    "from bs4 import BeautifulSoup\n",
    "import xmltodict \n",
    "\n",
    "hwp_file = r'../data/template1.hwpx'\n",
    "temp_dir = r'../temp'\n",
    "\n",
    "display(\n",
    "    os.path.splitext(hwp_file),\n",
    "    os.path.splitext(os.path.basename(hwp_file))[0],\n",
    "    temp_base_name := os.path.join(temp_dir, os.path.splitext(os.path.basename(hwp_file))[0]),\n",
    "    temp_zip_file := f'{temp_base_name}.zip',\n",
    "    temp_unzip_dir := temp_base_name,\n",
    "    target_xml_file := os.path.join(temp_base_name, 'Contents', 'section0.xml')\n",
    ")\n",
    "\n",
    "if not os.path.exists(temp_zip_file):\n",
    "    shutil.copy(hwp_file, temp_zip_file)\n",
    "\n",
    "with zipfile.ZipFile(temp_zip_file, 'r') as zf:\n",
    "    zf.extractall(path=temp_base_name)\n",
    "\n",
    "with open(target_xml_file, 'r') as file:\n",
    "    xml_doc = file.read()\n",
    "\n",
    "soup = BeautifulSoup(xml_doc, 'lxml')\n"
   ]
  },
  {
   "cell_type": "code",
   "execution_count": 34,
   "metadata": {},
   "outputs": [],
   "source": [
    "_dict = {\n",
    "    '보고일': None,\n",
    "    '보고자': None,\n",
    "    '평가일': None,\n",
    "    '평가자': None,\n",
    "    '병록번호': None,\n",
    "    '환자명': None,\n",
    "    '나이': None,\n",
    "    '유해사례 내용': None,\n",
    "    '약사평가': None,\n",
    "    '참고문헌': None,\n",
    "    # 'WHO-UMC causality assessment': None,\n",
    "    # 'Naranjo Scale': None,\n",
    "    # '한국형 Algorithm Ver 2.0': None\n",
    "}"
   ]
  },
  {
   "cell_type": "code",
   "execution_count": 50,
   "metadata": {},
   "outputs": [
    {
     "name": "stdout",
     "output_type": "stream",
     "text": [
      "key: 보고일 \t  : 2000-01-01\n",
      "key: 보고자 \t  : 홍길동\n",
      "key: 병록번호 \t  : 0000****\n",
      "key: 환자명 \t  : 김**\n",
      "key: 나이 \t  : 01\n",
      "key: 유해사례 내용 \t (신경정신) 두통, (근골격계) 근육통\n"
     ]
    }
   ],
   "source": [
    "keys = _dict.keys()\n",
    "tags = soup.select('hp\\:t')\n",
    "l, r = 0, 0\n",
    "cnt = 100    \n",
    "\n",
    "def remove_special_characters(text):\n",
    "    pattern = r'[^a-zA-Z0-9]'\n",
    "    return re.sub(pattern, '', text)\n",
    "\n",
    "while r < len(tags):\n",
    "    key = _dict.keys()\n",
    "    tag = tags[r]\n",
    "    \n",
    "    if tag.string in key:\n",
    "        target_key = tag.string\n",
    "        r += 1\n",
    "\n",
    "        target_value = ''\n",
    "        \n",
    "        while not tags[r].string:\n",
    "            r += 1\n",
    "        \n",
    "        print(f'key: {target_key} \\t {tags[r].string}')\n",
    "\n",
    "    else:\n",
    "        r += 1\n",
    "            "
   ]
  },
  {
   "cell_type": "code",
   "execution_count": 44,
   "metadata": {},
   "outputs": [
    {
     "name": "stdout",
     "output_type": "stream",
     "text": [
      "Hello @World123\n"
     ]
    }
   ],
   "source": [
    "import re\n",
    "\n",
    "def remove_special_characters(text):\n",
    "    pattern = r'[^a-zA-Z0-9]'\n",
    "    return re.sub(pattern, '', text)\n",
    "\n",
    "# Example usage\n",
    "text = \"Hello @World!123\"\n",
    "clean_text = remove_special_characters(text)\n",
    "print(clean_text)"
   ]
  }
 ],
 "metadata": {
  "kernelspec": {
   "display_name": "Python 3 (ipykernel)",
   "language": "python",
   "name": "python3"
  },
  "language_info": {
   "codemirror_mode": {
    "name": "ipython",
    "version": 3
   },
   "file_extension": ".py",
   "mimetype": "text/x-python",
   "name": "python",
   "nbconvert_exporter": "python",
   "pygments_lexer": "ipython3",
   "version": "3.11.4"
  }
 },
 "nbformat": 4,
 "nbformat_minor": 4
}
